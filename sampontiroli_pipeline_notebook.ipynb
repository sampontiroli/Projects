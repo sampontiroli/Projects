{
 "cells": [
  {
   "cell_type": "code",
   "execution_count": 1,
   "id": "55f49ab9",
   "metadata": {},
   "outputs": [
    {
     "name": "stderr",
     "output_type": "stream",
     "text": [
      "c:\\Users\\dell\\Documents\\ml_projects\\master\\env\\lib\\site-packages\\xgboost\\compat.py:36: FutureWarning: pandas.Int64Index is deprecated and will be removed from pandas in a future version. Use pandas.Index with the appropriate dtype instead.\n",
      "  from pandas import MultiIndex, Int64Index\n"
     ]
    }
   ],
   "source": [
    "import pandas as pd\n",
    "import numpy as np\n",
    "import matplotlib.pyplot as plt\n",
    "import seaborn as sns\n",
    "import itertools\n",
    "import joblib\n",
    "\n",
    "from sklearn.impute import SimpleImputer\n",
    "from sklearn.preprocessing import OneHotEncoder, OrdinalEncoder, RobustScaler, FunctionTransformer\n",
    "from sklearn.compose import ColumnTransformer\n",
    "from sklearn.pipeline import Pipeline\n",
    "\n",
    "from sklearn.model_selection import train_test_split, learning_curve, GridSearchCV\n",
    "from sklearn.neighbors import KNeighborsClassifier\n",
    "from sklearn.tree import DecisionTreeClassifier\n",
    "from sklearn.ensemble import BaggingClassifier, RandomForestClassifier\n",
    "from sklearn.neighbors import KNeighborsClassifier\n",
    "import xgboost as xgb\n",
    "from sklearn.metrics import classification_report, f1_score\n",
    "\n",
    "from imblearn.over_sampling import RandomOverSampler"
   ]
  },
  {
   "cell_type": "code",
   "execution_count": 2,
   "id": "4d6ae4d7",
   "metadata": {},
   "outputs": [],
   "source": [
    "tanz_df = pd.read_csv('data/Train.csv', index_col='Tour_ID')\n",
    "\n",
    "# I drop duplicates, just in case\n",
    "tanz_df.drop_duplicates(inplace=True)\n",
    "\n",
    "# I also import the test_data\n",
    "X_test = pd.read_csv('data/Test.csv', index_col='Tour_ID')"
   ]
  },
  {
   "cell_type": "code",
   "execution_count": 3,
   "id": "96003f02",
   "metadata": {},
   "outputs": [],
   "source": [
    "# I drop rows where total_female and/or total_male are null\n",
    "\n",
    "tanz_df.dropna(subset=['total_female', 'total_male'], inplace=True)\n",
    "X_test.dropna(subset=['total_female', 'total_male'], inplace=True)"
   ]
  },
  {
   "cell_type": "code",
   "execution_count": 4,
   "id": "ed149ea9",
   "metadata": {},
   "outputs": [],
   "source": [
    "# I correct duplicate names and one of the main_activity values spelled wrong\n",
    "\n",
    "tanz_df['country'] = tanz_df['country'].apply(lambda x: 'BULGARIA' if x=='BURGARIA' else 'UAE' if x=='UNITED ARAB EMIRATES' else x)\n",
    "X_test['country'] = X_test['country'].apply(lambda x: 'BULGARIA' if x=='BURGARIA' else 'UAE' if x=='UNITED ARAB EMIRATES' else x)\n",
    "\n",
    "tanz_df['main_activity'] = tanz_df['main_activity'].apply(lambda x: 'Wildlife Tourism' if x=='Widlife Tourism' else x)\n",
    "X_test['main_activity'] = X_test['main_activity'].apply(lambda x: 'Wildlife Tourism' if x=='Widlife Tourism' else x)"
   ]
  },
  {
   "cell_type": "code",
   "execution_count": 5,
   "id": "c8e66581",
   "metadata": {},
   "outputs": [],
   "source": [
    "# I divide train (90%) and validation (10%) sets \n",
    "\n",
    "X = tanz_df.drop(['cost_category'], axis=1)\n",
    "y = pd.DataFrame(data=tanz_df['cost_category'])\n",
    "\n",
    "X_train, X_valid, y_train, y_valid = train_test_split(X, y, test_size=0.1, stratify=y, random_state=25)"
   ]
  },
  {
   "cell_type": "code",
   "execution_count": 6,
   "id": "678f3162",
   "metadata": {},
   "outputs": [],
   "source": [
    "# I run random oversampling since the label classes are unbalanced\n",
    "over_sampler = RandomOverSampler(random_state=25)\n",
    "X_train_over, y_train_over = over_sampler.fit_resample(X_train, y_train)"
   ]
  },
  {
   "cell_type": "code",
   "execution_count": 7,
   "id": "2c95c6f9",
   "metadata": {},
   "outputs": [],
   "source": [
    "# I run ordinal encoder to encode the categorical classes into numerical ones\n",
    "\n",
    "ordinal_cat = [['Lower Cost','Low Cost','Normal Cost','High Cost','Higher Cost','Highest Cost']]\n",
    "\n",
    "ordenc = OrdinalEncoder(categories=ordinal_cat, dtype='int')\n",
    "\n",
    "y_train_proc = ordenc.fit_transform(y_train_over)\n",
    "y_valid_proc = ordenc.transform(y_valid)"
   ]
  },
  {
   "cell_type": "code",
   "execution_count": 8,
   "id": "8a55447a",
   "metadata": {},
   "outputs": [
    {
     "name": "stderr",
     "output_type": "stream",
     "text": [
      "c:\\Users\\dell\\Documents\\ml_projects\\master\\env\\lib\\site-packages\\sklearn\\preprocessing\\_encoders.py:188: UserWarning: Found unknown categories in columns [0] during transform. These unknown categories will be encoded as all zeros\n",
      "  warnings.warn(\n"
     ]
    },
    {
     "data": {
      "text/html": [
       "<div>\n",
       "<style scoped>\n",
       "    .dataframe tbody tr th:only-of-type {\n",
       "        vertical-align: middle;\n",
       "    }\n",
       "\n",
       "    .dataframe tbody tr th {\n",
       "        vertical-align: top;\n",
       "    }\n",
       "\n",
       "    .dataframe thead th {\n",
       "        text-align: right;\n",
       "    }\n",
       "</style>\n",
       "<table border=\"1\" class=\"dataframe\">\n",
       "  <thead>\n",
       "    <tr style=\"text-align: right;\">\n",
       "      <th></th>\n",
       "      <th>PredictedClass</th>\n",
       "    </tr>\n",
       "    <tr>\n",
       "      <th>Test_ID</th>\n",
       "      <th></th>\n",
       "    </tr>\n",
       "  </thead>\n",
       "  <tbody>\n",
       "    <tr>\n",
       "      <th>tour_idynufedne</th>\n",
       "      <td>Normal Cost</td>\n",
       "    </tr>\n",
       "    <tr>\n",
       "      <th>tour_id9r3y5moe</th>\n",
       "      <td>Higher Cost</td>\n",
       "    </tr>\n",
       "    <tr>\n",
       "      <th>tour_idf6itml6g</th>\n",
       "      <td>High Cost</td>\n",
       "    </tr>\n",
       "    <tr>\n",
       "      <th>tour_id99u4znru</th>\n",
       "      <td>Low Cost</td>\n",
       "    </tr>\n",
       "    <tr>\n",
       "      <th>tour_idj4i9urbx</th>\n",
       "      <td>Lower Cost</td>\n",
       "    </tr>\n",
       "    <tr>\n",
       "      <th>...</th>\n",
       "      <td>...</td>\n",
       "    </tr>\n",
       "    <tr>\n",
       "      <th>tour_id2deyfjhq</th>\n",
       "      <td>Low Cost</td>\n",
       "    </tr>\n",
       "    <tr>\n",
       "      <th>tour_idlenv2rio</th>\n",
       "      <td>Lower Cost</td>\n",
       "    </tr>\n",
       "    <tr>\n",
       "      <th>tour_id7wwqrs0p</th>\n",
       "      <td>High Cost</td>\n",
       "    </tr>\n",
       "    <tr>\n",
       "      <th>tour_idx80vbw5a</th>\n",
       "      <td>Normal Cost</td>\n",
       "    </tr>\n",
       "    <tr>\n",
       "      <th>tour_id8fkkwytb</th>\n",
       "      <td>Low Cost</td>\n",
       "    </tr>\n",
       "  </tbody>\n",
       "</table>\n",
       "<p>6166 rows × 1 columns</p>\n",
       "</div>"
      ],
      "text/plain": [
       "                PredictedClass\n",
       "Test_ID                       \n",
       "tour_idynufedne    Normal Cost\n",
       "tour_id9r3y5moe    Higher Cost\n",
       "tour_idf6itml6g      High Cost\n",
       "tour_id99u4znru       Low Cost\n",
       "tour_idj4i9urbx     Lower Cost\n",
       "...                        ...\n",
       "tour_id2deyfjhq       Low Cost\n",
       "tour_idlenv2rio     Lower Cost\n",
       "tour_id7wwqrs0p      High Cost\n",
       "tour_idx80vbw5a    Normal Cost\n",
       "tour_id8fkkwytb       Low Cost\n",
       "\n",
       "[6166 rows x 1 columns]"
      ]
     },
     "execution_count": 8,
     "metadata": {},
     "output_type": "execute_result"
    }
   ],
   "source": [
    "numeric_cols = ['total_female','total_male','night_mainland','night_zanzibar']\n",
    "inputer_cols = ['travel_with']\n",
    "categoric_cols = X_train.drop(['total_female','total_male','night_mainland','night_zanzibar','travel_with'], axis=1).columns\n",
    "\n",
    "\n",
    "inputer_pipeline = Pipeline(\n",
    "    steps=[\n",
    "        (\"impute\", SimpleImputer(strategy='constant', fill_value='Alone')),\n",
    "        (\"ohencode\", OneHotEncoder(drop='first', sparse=False, handle_unknown='ignore', dtype='int'))\n",
    "    ]\n",
    ")\n",
    "\n",
    "categorical_pipeline = Pipeline(\n",
    "    steps=[\n",
    "        (\"ohencode\", OneHotEncoder(drop='first', sparse=False, handle_unknown='ignore', dtype='int'))\n",
    "    ]\n",
    ")\n",
    "numeric_pipeline = Pipeline(\n",
    "    steps=[(\"scale\", RobustScaler())]\n",
    ")\n",
    "\n",
    "ct = ColumnTransformer(transformers=[\n",
    "    ('inputer_pipe', inputer_pipeline, inputer_cols),\n",
    "    ('categ_pipe', categorical_pipeline, categoric_cols),\n",
    "    ('num_pipe', numeric_pipeline, numeric_cols)])\n",
    "\n",
    "final_pipe = Pipeline(steps=[\n",
    "    ('coltr', ct),\n",
    "    ('model', xgb.XGBClassifier(objective='multi:softprob', eval_metric='mlogloss',\n",
    "                                use_label_encoder=False, n_jobs=-1, random_state=25,\n",
    "                               alpha= 4, colsample_bytree= 0.7, gamma= 2, max_depth= 4, \n",
    "                               min_child_weight= 7, subsample= 0.5))\n",
    "])\n",
    "\n",
    "\n",
    "final_pipe.fit(X_train_over, y_train_proc)\n",
    "\n",
    "\n",
    "y_preds = pd.DataFrame(final_pipe.predict(X_test),\n",
    "                      columns=['num_predictions'],\n",
    "                      index = X_test.index)\n",
    "\n",
    "\n",
    "y_preds = pd.DataFrame(data = ordenc.inverse_transform(y_preds),\n",
    "                       columns = ['PredictedClass'],\n",
    "                       index = y_preds.index)\n",
    "\n",
    "y_preds.index.name='Test_ID'\n",
    "\n",
    "y_preds"
   ]
  },
  {
   "cell_type": "code",
   "execution_count": 9,
   "id": "faee161a",
   "metadata": {},
   "outputs": [],
   "source": [
    "y_preds.to_csv('Submission.csv')"
   ]
  },
  {
   "cell_type": "code",
   "execution_count": 10,
   "id": "67b6b23a",
   "metadata": {},
   "outputs": [
    {
     "data": {
      "text/plain": [
       "['{sampontiroli}_model.joblib']"
      ]
     },
     "execution_count": 10,
     "metadata": {},
     "output_type": "execute_result"
    }
   ],
   "source": [
    "joblib.dump(final_pipe, \"{sampontiroli}_model.joblib\")"
   ]
  }
 ],
 "metadata": {
  "kernelspec": {
   "display_name": "Python 3 (ipykernel)",
   "language": "python",
   "name": "python3"
  },
  "language_info": {
   "codemirror_mode": {
    "name": "ipython",
    "version": 3
   },
   "file_extension": ".py",
   "mimetype": "text/x-python",
   "name": "python",
   "nbconvert_exporter": "python",
   "pygments_lexer": "ipython3",
   "version": "3.10.4"
  }
 },
 "nbformat": 4,
 "nbformat_minor": 5
}
